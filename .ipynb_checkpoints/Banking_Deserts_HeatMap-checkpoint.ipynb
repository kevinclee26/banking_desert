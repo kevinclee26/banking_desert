{
 "cells": [
  {
   "cell_type": "code",
   "execution_count": null,
   "metadata": {},
   "outputs": [],
   "source": [
    "!jupyter nbextension enable --py --sys-prefix widgetsnbextension\n",
    "!pip install gmaps\n",
    "!jupyter nbextension enable --py --sys-prefix gmaps"
   ]
  },
  {
   "cell_type": "markdown",
   "metadata": {},
   "source": [
    "# Banking and Poverty\n",
    "---"
   ]
  },
  {
   "cell_type": "code",
   "execution_count": 4,
   "metadata": {},
   "outputs": [],
   "source": [
    "# Dependencies\n",
    "from census import Census\n",
    "from config import (census_key, gkey)\n",
    "import gmaps\n",
    "import numpy as np\n",
    "import pandas as pd\n",
    "import requests\n",
    "import time\n",
    "from scipy.stats import linregress\n",
    "from matplotlib import pyplot as plt\n",
    "\n",
    "\n",
    "# Census API Key\n",
    "c = Census(census_key, year=2013)"
   ]
  },
  {
   "cell_type": "markdown",
   "metadata": {},
   "source": [
    "## Data Retrieval"
   ]
  },
  {
   "cell_type": "code",
   "execution_count": 5,
   "metadata": {},
   "outputs": [
    {
     "data": {
      "text/html": [
       "<div>\n",
       "<style scoped>\n",
       "    .dataframe tbody tr th:only-of-type {\n",
       "        vertical-align: middle;\n",
       "    }\n",
       "\n",
       "    .dataframe tbody tr th {\n",
       "        vertical-align: top;\n",
       "    }\n",
       "\n",
       "    .dataframe thead th {\n",
       "        text-align: right;\n",
       "    }\n",
       "</style>\n",
       "<table border=\"1\" class=\"dataframe\">\n",
       "  <thead>\n",
       "    <tr style=\"text-align: right;\">\n",
       "      <th></th>\n",
       "      <th>Population</th>\n",
       "      <th>Poverty Count</th>\n",
       "      <th>Zipcode</th>\n",
       "      <th>Poverty Rate</th>\n",
       "    </tr>\n",
       "  </thead>\n",
       "  <tbody>\n",
       "    <tr>\n",
       "      <th>0</th>\n",
       "      <td>22121.0</td>\n",
       "      <td>2412.0</td>\n",
       "      <td>01832</td>\n",
       "      <td>10.903666</td>\n",
       "    </tr>\n",
       "    <tr>\n",
       "      <th>1</th>\n",
       "      <td>8295.0</td>\n",
       "      <td>191.0</td>\n",
       "      <td>01833</td>\n",
       "      <td>2.302592</td>\n",
       "    </tr>\n",
       "    <tr>\n",
       "      <th>2</th>\n",
       "      <td>6675.0</td>\n",
       "      <td>146.0</td>\n",
       "      <td>01834</td>\n",
       "      <td>2.187266</td>\n",
       "    </tr>\n",
       "    <tr>\n",
       "      <th>3</th>\n",
       "      <td>13527.0</td>\n",
       "      <td>1153.0</td>\n",
       "      <td>01835</td>\n",
       "      <td>8.523693</td>\n",
       "    </tr>\n",
       "    <tr>\n",
       "      <th>4</th>\n",
       "      <td>4547.0</td>\n",
       "      <td>1798.0</td>\n",
       "      <td>01840</td>\n",
       "      <td>39.542556</td>\n",
       "    </tr>\n",
       "  </tbody>\n",
       "</table>\n",
       "</div>"
      ],
      "text/plain": [
       "   Population  Poverty Count Zipcode  Poverty Rate\n",
       "0     22121.0         2412.0   01832     10.903666\n",
       "1      8295.0          191.0   01833      2.302592\n",
       "2      6675.0          146.0   01834      2.187266\n",
       "3     13527.0         1153.0   01835      8.523693\n",
       "4      4547.0         1798.0   01840     39.542556"
      ]
     },
     "execution_count": 5,
     "metadata": {},
     "output_type": "execute_result"
    }
   ],
   "source": [
    "# Run Census Search to retrieve data on all zip codes (2013 ACS5 Census)\n",
    "# See: https://github.com/CommerceDataService/census-wrapper for library documentation\n",
    "# See: https://gist.github.com/afhaque/60558290d6efd892351c4b64e5c01e9b for labels\n",
    "census_data = c.acs5.get((\"B01003_001E\", \"B17001_002E\"), {\n",
    "                         'for': 'zip code tabulation area:*'})\n",
    "\n",
    "# # Convert to DataFrame\n",
    "census_pd = pd.DataFrame(census_data)\n",
    "\n",
    "# # Column Reordering\n",
    "census_pd = census_pd.rename(columns={\"B01003_001E\": \"Population\",\n",
    "                                      \"B17001_002E\": \"Poverty Count\",\n",
    "                                      \"zip code tabulation area\": \"Zipcode\"})\n",
    "\n",
    "# Add in Poverty Rate (Poverty Count / Population)\n",
    "census_pd['Poverty Rate']=census_pd['Poverty Count']/census_pd['Population']*100\n",
    "# Final DataFrame\n",
    "\n",
    "\n",
    "# Visualize\n",
    "census_pd.head()"
   ]
  },
  {
   "cell_type": "code",
   "execution_count": 6,
   "metadata": {},
   "outputs": [],
   "source": [
    "# convert dtype to int for merging w/ bank data\n",
    "census_pd['Zipcode']=census_pd['Zipcode'].astype(int)"
   ]
  },
  {
   "cell_type": "markdown",
   "metadata": {
    "collapsed": true
   },
   "source": [
    "## Combine Data"
   ]
  },
  {
   "cell_type": "code",
   "execution_count": 7,
   "metadata": {
    "scrolled": true
   },
   "outputs": [
    {
     "data": {
      "text/html": [
       "<div>\n",
       "<style scoped>\n",
       "    .dataframe tbody tr th:only-of-type {\n",
       "        vertical-align: middle;\n",
       "    }\n",
       "\n",
       "    .dataframe tbody tr th {\n",
       "        vertical-align: top;\n",
       "    }\n",
       "\n",
       "    .dataframe thead th {\n",
       "        text-align: right;\n",
       "    }\n",
       "</style>\n",
       "<table border=\"1\" class=\"dataframe\">\n",
       "  <thead>\n",
       "    <tr style=\"text-align: right;\">\n",
       "      <th></th>\n",
       "      <th>Zipcode</th>\n",
       "      <th>Address</th>\n",
       "      <th>Median Age</th>\n",
       "      <th>Household Income</th>\n",
       "      <th>Per Capita Income</th>\n",
       "      <th>Lat</th>\n",
       "      <th>Lng</th>\n",
       "      <th>Bank Count</th>\n",
       "    </tr>\n",
       "  </thead>\n",
       "  <tbody>\n",
       "    <tr>\n",
       "      <th>0</th>\n",
       "      <td>27358</td>\n",
       "      <td>Summerfield, NC 27358, USA</td>\n",
       "      <td>43.0</td>\n",
       "      <td>88382.0</td>\n",
       "      <td>40210</td>\n",
       "      <td>36.234502</td>\n",
       "      <td>-79.885682</td>\n",
       "      <td>4</td>\n",
       "    </tr>\n",
       "    <tr>\n",
       "      <th>1</th>\n",
       "      <td>14113</td>\n",
       "      <td>North Java, NY 14113, USA</td>\n",
       "      <td>45.6</td>\n",
       "      <td>47500.0</td>\n",
       "      <td>33149</td>\n",
       "      <td>42.683985</td>\n",
       "      <td>-78.327325</td>\n",
       "      <td>0</td>\n",
       "    </tr>\n",
       "    <tr>\n",
       "      <th>2</th>\n",
       "      <td>71825</td>\n",
       "      <td>Blevins, AR 71825, USA</td>\n",
       "      <td>32.6</td>\n",
       "      <td>35625.0</td>\n",
       "      <td>13098</td>\n",
       "      <td>33.868278</td>\n",
       "      <td>-93.550907</td>\n",
       "      <td>2</td>\n",
       "    </tr>\n",
       "    <tr>\n",
       "      <th>3</th>\n",
       "      <td>32535</td>\n",
       "      <td>Century, FL 32535, USA</td>\n",
       "      <td>37.8</td>\n",
       "      <td>34107.0</td>\n",
       "      <td>13066</td>\n",
       "      <td>30.972476</td>\n",
       "      <td>-87.371148</td>\n",
       "      <td>0</td>\n",
       "    </tr>\n",
       "    <tr>\n",
       "      <th>4</th>\n",
       "      <td>5483</td>\n",
       "      <td>Sheldon, VT 05483, USA</td>\n",
       "      <td>35.9</td>\n",
       "      <td>65039.0</td>\n",
       "      <td>24743</td>\n",
       "      <td>46.738660</td>\n",
       "      <td>-92.282514</td>\n",
       "      <td>2</td>\n",
       "    </tr>\n",
       "  </tbody>\n",
       "</table>\n",
       "</div>"
      ],
      "text/plain": [
       "   Zipcode                     Address  Median Age  Household Income  \\\n",
       "0    27358  Summerfield, NC 27358, USA        43.0           88382.0   \n",
       "1    14113   North Java, NY 14113, USA        45.6           47500.0   \n",
       "2    71825      Blevins, AR 71825, USA        32.6           35625.0   \n",
       "3    32535      Century, FL 32535, USA        37.8           34107.0   \n",
       "4     5483      Sheldon, VT 05483, USA        35.9           65039.0   \n",
       "\n",
       "   Per Capita Income        Lat        Lng  Bank Count  \n",
       "0              40210  36.234502 -79.885682           4  \n",
       "1              33149  42.683985 -78.327325           0  \n",
       "2              13098  33.868278 -93.550907           2  \n",
       "3              13066  30.972476 -87.371148           0  \n",
       "4              24743  46.738660 -92.282514           2  "
      ]
     },
     "execution_count": 7,
     "metadata": {},
     "output_type": "execute_result"
    }
   ],
   "source": [
    "# Import the zip bank data. Use dtype=\"object\" to ensure all data is read in accurately.\n",
    "bank_data_df=pd.read_csv('Resources/zip_bank_data.csv')\n",
    "\n",
    "# Visualize\n",
    "bank_data_df.head()"
   ]
  },
  {
   "cell_type": "code",
   "execution_count": 8,
   "metadata": {},
   "outputs": [
    {
     "data": {
      "text/html": [
       "<div>\n",
       "<style scoped>\n",
       "    .dataframe tbody tr th:only-of-type {\n",
       "        vertical-align: middle;\n",
       "    }\n",
       "\n",
       "    .dataframe tbody tr th {\n",
       "        vertical-align: top;\n",
       "    }\n",
       "\n",
       "    .dataframe thead th {\n",
       "        text-align: right;\n",
       "    }\n",
       "</style>\n",
       "<table border=\"1\" class=\"dataframe\">\n",
       "  <thead>\n",
       "    <tr style=\"text-align: right;\">\n",
       "      <th></th>\n",
       "      <th>Zipcode</th>\n",
       "      <th>Address</th>\n",
       "      <th>Median Age</th>\n",
       "      <th>Household Income</th>\n",
       "      <th>Per Capita Income</th>\n",
       "      <th>Lat</th>\n",
       "      <th>Lng</th>\n",
       "      <th>Bank Count</th>\n",
       "      <th>Population</th>\n",
       "      <th>Poverty Count</th>\n",
       "      <th>Poverty Rate</th>\n",
       "    </tr>\n",
       "  </thead>\n",
       "  <tbody>\n",
       "    <tr>\n",
       "      <th>0</th>\n",
       "      <td>27358</td>\n",
       "      <td>Summerfield, NC 27358, USA</td>\n",
       "      <td>43.0</td>\n",
       "      <td>88382.0</td>\n",
       "      <td>40210</td>\n",
       "      <td>36.234502</td>\n",
       "      <td>-79.885682</td>\n",
       "      <td>4</td>\n",
       "      <td>14998.0</td>\n",
       "      <td>648.0</td>\n",
       "      <td>4.320576</td>\n",
       "    </tr>\n",
       "    <tr>\n",
       "      <th>1</th>\n",
       "      <td>14113</td>\n",
       "      <td>North Java, NY 14113, USA</td>\n",
       "      <td>45.6</td>\n",
       "      <td>47500.0</td>\n",
       "      <td>33149</td>\n",
       "      <td>42.683985</td>\n",
       "      <td>-78.327325</td>\n",
       "      <td>0</td>\n",
       "      <td>630.0</td>\n",
       "      <td>65.0</td>\n",
       "      <td>10.317460</td>\n",
       "    </tr>\n",
       "    <tr>\n",
       "      <th>2</th>\n",
       "      <td>71825</td>\n",
       "      <td>Blevins, AR 71825, USA</td>\n",
       "      <td>32.6</td>\n",
       "      <td>35625.0</td>\n",
       "      <td>13098</td>\n",
       "      <td>33.868278</td>\n",
       "      <td>-93.550907</td>\n",
       "      <td>2</td>\n",
       "      <td>686.0</td>\n",
       "      <td>248.0</td>\n",
       "      <td>36.151603</td>\n",
       "    </tr>\n",
       "    <tr>\n",
       "      <th>3</th>\n",
       "      <td>32535</td>\n",
       "      <td>Century, FL 32535, USA</td>\n",
       "      <td>37.8</td>\n",
       "      <td>34107.0</td>\n",
       "      <td>13066</td>\n",
       "      <td>30.972476</td>\n",
       "      <td>-87.371148</td>\n",
       "      <td>0</td>\n",
       "      <td>6015.0</td>\n",
       "      <td>859.0</td>\n",
       "      <td>14.280964</td>\n",
       "    </tr>\n",
       "    <tr>\n",
       "      <th>4</th>\n",
       "      <td>5483</td>\n",
       "      <td>Sheldon, VT 05483, USA</td>\n",
       "      <td>35.9</td>\n",
       "      <td>65039.0</td>\n",
       "      <td>24743</td>\n",
       "      <td>46.738660</td>\n",
       "      <td>-92.282514</td>\n",
       "      <td>2</td>\n",
       "      <td>1481.0</td>\n",
       "      <td>111.0</td>\n",
       "      <td>7.494936</td>\n",
       "    </tr>\n",
       "  </tbody>\n",
       "</table>\n",
       "</div>"
      ],
      "text/plain": [
       "   Zipcode                     Address  Median Age  Household Income  \\\n",
       "0    27358  Summerfield, NC 27358, USA        43.0           88382.0   \n",
       "1    14113   North Java, NY 14113, USA        45.6           47500.0   \n",
       "2    71825      Blevins, AR 71825, USA        32.6           35625.0   \n",
       "3    32535      Century, FL 32535, USA        37.8           34107.0   \n",
       "4     5483      Sheldon, VT 05483, USA        35.9           65039.0   \n",
       "\n",
       "   Per Capita Income        Lat        Lng  Bank Count  Population  \\\n",
       "0              40210  36.234502 -79.885682           4     14998.0   \n",
       "1              33149  42.683985 -78.327325           0       630.0   \n",
       "2              13098  33.868278 -93.550907           2       686.0   \n",
       "3              13066  30.972476 -87.371148           0      6015.0   \n",
       "4              24743  46.738660 -92.282514           2      1481.0   \n",
       "\n",
       "   Poverty Count  Poverty Rate  \n",
       "0          648.0      4.320576  \n",
       "1           65.0     10.317460  \n",
       "2          248.0     36.151603  \n",
       "3          859.0     14.280964  \n",
       "4          111.0      7.494936  "
      ]
     },
     "execution_count": 8,
     "metadata": {},
     "output_type": "execute_result"
    }
   ],
   "source": [
    "# Merge the two data sets along zip code\n",
    "complete_df=pd.merge(bank_data_df, census_pd, how='left', on='Zipcode')\n",
    "\n",
    "# Remove rows missing data\n",
    "complete_df=complete_df.dropna()\n",
    "\n",
    "# Visualize\n",
    "complete_df.head()"
   ]
  },
  {
   "cell_type": "markdown",
   "metadata": {},
   "source": [
    "## Heatmap of poverty rate"
   ]
  },
  {
   "cell_type": "code",
   "execution_count": 9,
   "metadata": {},
   "outputs": [],
   "source": [
    "# Configure gmaps with API key\n",
    "gmaps.configure(api_key=gkey)"
   ]
  },
  {
   "cell_type": "code",
   "execution_count": 10,
   "metadata": {},
   "outputs": [],
   "source": [
    "# Store 'Lat' and 'Lng' into  locations \n",
    "locations=complete_df[['Lat', 'Lng']]\n",
    "# Convert Poverty Rate to float and store\n",
    "poverty_rate=complete_df['Poverty Rate']"
   ]
  },
  {
   "cell_type": "code",
   "execution_count": 11,
   "metadata": {},
   "outputs": [
    {
     "data": {
      "application/vnd.jupyter.widget-view+json": {
       "model_id": "55addc715e7841dfa51212637318a0b1",
       "version_major": 2,
       "version_minor": 0
      },
      "text/plain": [
       "Figure(layout=FigureLayout(height='420px'))"
      ]
     },
     "metadata": {},
     "output_type": "display_data"
    }
   ],
   "source": [
    "# Create a poverty Heatmap layer\n",
    "fig=gmaps.figure()\n",
    "heatmap_layer=gmaps.heatmap_layer(locations, \n",
    "                                weights=poverty_rate)\n",
    "fig.add_layer(heatmap_layer)\n",
    "fig"
   ]
  },
  {
   "cell_type": "code",
   "execution_count": 12,
   "metadata": {},
   "outputs": [],
   "source": [
    "# Convert bank rate to list\n",
    "bank_rate=complete_df['Bank Count']"
   ]
  },
  {
   "cell_type": "code",
   "execution_count": 13,
   "metadata": {},
   "outputs": [
    {
     "data": {
      "application/vnd.jupyter.widget-view+json": {
       "model_id": "e9a8b19984c141cf9da4e243f2d4a288",
       "version_major": 2,
       "version_minor": 0
      },
      "text/plain": [
       "Figure(layout=FigureLayout(height='420px'))"
      ]
     },
     "metadata": {},
     "output_type": "display_data"
    }
   ],
   "source": [
    "fig=gmaps.figure()\n",
    "info_list=[]\n",
    "for each_bank in bank_rate: \n",
    "    info_list.append(f'Bank amount: {each_bank}')\n",
    "# Create bank symbol layer\n",
    "bank_layer=gmaps.symbol_layer(locations, \n",
    "                              fill_color='blue', \n",
    "                              scale=2, \n",
    "                              info_box_content=[f'Bank amount: {bank}' for bank in bank_rate])\n",
    "#                               info_box_content=info_list)\n",
    "fig.add_layer(bank_layer)\n",
    "fig"
   ]
  },
  {
   "cell_type": "code",
   "execution_count": 14,
   "metadata": {},
   "outputs": [
    {
     "data": {
      "application/vnd.jupyter.widget-view+json": {
       "model_id": "490dbb096cd54b638e31d632136c97cd",
       "version_major": 2,
       "version_minor": 0
      },
      "text/plain": [
       "Figure(layout=FigureLayout(height='420px'))"
      ]
     },
     "metadata": {},
     "output_type": "display_data"
    }
   ],
   "source": [
    "# Create a combined map\n",
    "fig=gmaps.figure()\n",
    "fig.add_layer(heatmap_layer)\n",
    "fig.add_layer(bank_layer)\n",
    "fig"
   ]
  },
  {
   "cell_type": "markdown",
   "metadata": {},
   "source": [
    "## Statistical Analysis"
   ]
  },
  {
   "cell_type": "markdown",
   "metadata": {},
   "source": [
    "#### Summary Statistics"
   ]
  },
  {
   "cell_type": "code",
   "execution_count": null,
   "metadata": {},
   "outputs": [],
   "source": [
    "# Mean, median, mode for Poverty Rate, Bank Count, Population"
   ]
  },
  {
   "cell_type": "code",
   "execution_count": null,
   "metadata": {},
   "outputs": [],
   "source": [
    "# Mean, median, mode for Poverty Rate"
   ]
  },
  {
   "cell_type": "code",
   "execution_count": null,
   "metadata": {},
   "outputs": [],
   "source": [
    "# Mean, median, mode for Bank Count"
   ]
  },
  {
   "cell_type": "code",
   "execution_count": null,
   "metadata": {},
   "outputs": [],
   "source": [
    "# Mean, median, mode for Population"
   ]
  },
  {
   "cell_type": "markdown",
   "metadata": {},
   "source": [
    "#### Linear Regression"
   ]
  },
  {
   "cell_type": "code",
   "execution_count": null,
   "metadata": {},
   "outputs": [],
   "source": [
    "## Convert to floats and store Poverty Rate and Bank Count as x and y values\n",
    "\n",
    "\n",
    "# Run linear regression\n",
    "\n",
    "\n",
    "# Plot scatter plot\n",
    "\n",
    "\n",
    "# Plot regression line\n",
    "\n",
    "\n",
    "# Label plot\n",
    "\n",
    "\n",
    "# Print r square value\n",
    "\n",
    "\n",
    "# Show plot\n"
   ]
  },
  {
   "cell_type": "markdown",
   "metadata": {},
   "source": [
    "### Analysis"
   ]
  },
  {
   "cell_type": "code",
   "execution_count": null,
   "metadata": {},
   "outputs": [],
   "source": []
  }
 ],
 "metadata": {
  "anaconda-cloud": {},
  "kernelspec": {
   "display_name": "Python 3",
   "language": "python",
   "name": "python3"
  },
  "language_info": {
   "codemirror_mode": {
    "name": "ipython",
    "version": 3
   },
   "file_extension": ".py",
   "mimetype": "text/x-python",
   "name": "python",
   "nbconvert_exporter": "python",
   "pygments_lexer": "ipython3",
   "version": "3.7.1"
  },
  "latex_envs": {
   "LaTeX_envs_menu_present": true,
   "autoclose": false,
   "autocomplete": true,
   "bibliofile": "biblio.bib",
   "cite_by": "apalike",
   "current_citInitial": 1,
   "eqLabelWithNumbers": true,
   "eqNumInitial": 1,
   "hotkeys": {
    "equation": "Ctrl-E",
    "itemize": "Ctrl-I"
   },
   "labels_anchors": false,
   "latex_user_defs": false,
   "report_style_numbering": false,
   "user_envs_cfg": false
  }
 },
 "nbformat": 4,
 "nbformat_minor": 1
}
